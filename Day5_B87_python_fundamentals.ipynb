{
 "cells": [
  {
   "cell_type": "code",
   "execution_count": null,
   "id": "23442fcc-5095-4e3b-b448-933349fff5ff",
   "metadata": {},
   "outputs": [],
   "source": [
    "#organising the list data type"
   ]
  },
  {
   "cell_type": "code",
   "execution_count": 1,
   "id": "e5947359-8465-4440-9c3f-12af60f5586d",
   "metadata": {},
   "outputs": [],
   "source": [
    "cars=['bmw','tata','suzuki','audi','toyota']"
   ]
  },
  {
   "cell_type": "code",
   "execution_count": 2,
   "id": "023b200b-b75f-43c7-80ce-243456ce90b9",
   "metadata": {},
   "outputs": [
    {
     "name": "stdout",
     "output_type": "stream",
     "text": [
      "['audi', 'bmw', 'suzuki', 'tata', 'toyota']\n"
     ]
    }
   ],
   "source": [
    "print(sorted(cars))"
   ]
  },
  {
   "cell_type": "code",
   "execution_count": 4,
   "id": "062041f9-a49d-4466-9613-28780fa884fa",
   "metadata": {},
   "outputs": [],
   "source": [
    "cars.sort()"
   ]
  },
  {
   "cell_type": "code",
   "execution_count": 5,
   "id": "9b9646c1-3822-4c0d-8b8c-348744ec3d8b",
   "metadata": {},
   "outputs": [
    {
     "name": "stdout",
     "output_type": "stream",
     "text": [
      "['audi', 'bmw', 'suzuki', 'tata', 'toyota']\n"
     ]
    }
   ],
   "source": [
    "print(cars)"
   ]
  },
  {
   "cell_type": "code",
   "execution_count": 6,
   "id": "75b5b9e5-5d42-4fb4-bece-decb14e88c12",
   "metadata": {},
   "outputs": [
    {
     "data": {
      "text/plain": [
       "5"
      ]
     },
     "execution_count": 6,
     "metadata": {},
     "output_type": "execute_result"
    }
   ],
   "source": [
    "len(cars)"
   ]
  },
  {
   "cell_type": "code",
   "execution_count": 7,
   "id": "198b16db-a162-49d5-be2c-c4c328a25747",
   "metadata": {},
   "outputs": [],
   "source": [
    "cars.reverse()"
   ]
  },
  {
   "cell_type": "code",
   "execution_count": 8,
   "id": "412c7321-58bd-45b0-aa0a-6136c1ec16d9",
   "metadata": {},
   "outputs": [
    {
     "name": "stdout",
     "output_type": "stream",
     "text": [
      "['toyota', 'tata', 'suzuki', 'bmw', 'audi']\n"
     ]
    }
   ],
   "source": [
    "print(cars)"
   ]
  },
  {
   "cell_type": "code",
   "execution_count": 9,
   "id": "423da83a-511b-4eb7-b712-6f030c4666fc",
   "metadata": {},
   "outputs": [],
   "source": [
    "#introduction to slicing"
   ]
  },
  {
   "cell_type": "code",
   "execution_count": 10,
   "id": "46fe388d-b603-4325-8b1e-b5f9b3319f54",
   "metadata": {},
   "outputs": [],
   "source": [
    "students=['priya','pavani','dheera','ramana','adi','rajesh']"
   ]
  },
  {
   "cell_type": "code",
   "execution_count": 11,
   "id": "be030737-2989-4376-9dfc-8547c4521024",
   "metadata": {},
   "outputs": [
    {
     "name": "stdout",
     "output_type": "stream",
     "text": [
      "['priya', 'pavani']\n"
     ]
    }
   ],
   "source": [
    "print(students[0:2])"
   ]
  },
  {
   "cell_type": "code",
   "execution_count": 12,
   "id": "4990e513-7b51-4e47-af5f-7c87c3c4df9e",
   "metadata": {},
   "outputs": [
    {
     "name": "stdout",
     "output_type": "stream",
     "text": [
      "['dheera', 'ramana', 'adi', 'rajesh']\n"
     ]
    }
   ],
   "source": [
    "print(students[2:6])"
   ]
  },
  {
   "cell_type": "code",
   "execution_count": 15,
   "id": "e77c9954-1edc-48d8-b3e1-b875b1785d82",
   "metadata": {},
   "outputs": [
    {
     "name": "stdout",
     "output_type": "stream",
     "text": [
      "['priya', 'dheera', 'adi']\n"
     ]
    }
   ],
   "source": [
    "print(students[0:6:2])"
   ]
  },
  {
   "cell_type": "code",
   "execution_count": 16,
   "id": "7d3a7292-6dd2-40fb-b6b9-9d43897c90de",
   "metadata": {},
   "outputs": [],
   "source": [
    "#introduction to tuple data type"
   ]
  },
  {
   "cell_type": "code",
   "execution_count": 17,
   "id": "5a58fff9-c4a5-4acc-9016-1a5c963fb2d4",
   "metadata": {},
   "outputs": [],
   "source": [
    "dimensions=(20,50)"
   ]
  },
  {
   "cell_type": "code",
   "execution_count": 18,
   "id": "6bdbc352-202e-41f1-82ff-f205eb37d951",
   "metadata": {},
   "outputs": [
    {
     "data": {
      "text/plain": [
       "tuple"
      ]
     },
     "execution_count": 18,
     "metadata": {},
     "output_type": "execute_result"
    }
   ],
   "source": [
    "type(dimensions)"
   ]
  },
  {
   "cell_type": "code",
   "execution_count": null,
   "id": "0af7de89-2cb6-4a1a-b41d-943a4dbd6f0e",
   "metadata": {},
   "outputs": [],
   "source": []
  }
 ],
 "metadata": {
  "kernelspec": {
   "display_name": "Python 3 (ipykernel)",
   "language": "python",
   "name": "python3"
  },
  "language_info": {
   "codemirror_mode": {
    "name": "ipython",
    "version": 3
   },
   "file_extension": ".py",
   "mimetype": "text/x-python",
   "name": "python",
   "nbconvert_exporter": "python",
   "pygments_lexer": "ipython3",
   "version": "3.12.7"
  }
 },
 "nbformat": 4,
 "nbformat_minor": 5
}
